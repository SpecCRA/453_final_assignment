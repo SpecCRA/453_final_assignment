{
 "cells": [
  {
   "cell_type": "markdown",
   "metadata": {},
   "source": [
    "# EDA & Data Cleaning"
   ]
  },
  {
   "cell_type": "markdown",
   "metadata": {},
   "source": [
    "# Setup"
   ]
  },
  {
   "cell_type": "code",
   "execution_count": 1,
   "metadata": {},
   "outputs": [],
   "source": [
    "import pandas as pd\n",
    "import numpy as np\n",
    "import json\n",
    "import sys\n",
    "import os"
   ]
  },
  {
   "cell_type": "markdown",
   "metadata": {},
   "source": [
    "## Version check"
   ]
  },
  {
   "cell_type": "code",
   "execution_count": 2,
   "metadata": {},
   "outputs": [
    {
     "output_type": "stream",
     "name": "stdout",
     "text": "Python: 3.8.2 (default, Apr 27 2020, 15:53:34) \n[GCC 9.3.0]\npandas: 1.0.3\nNumPy: 1.18.3\n"
    }
   ],
   "source": [
    "print('Python: {}'.format(sys.version))\n",
    "print('pandas: {}'.format(pd.__version__))\n",
    "print('NumPy: {}'.format(np.__version__))"
   ]
  },
  {
   "cell_type": "markdown",
   "metadata": {},
   "source": [
    "# Import and load data"
   ]
  },
  {
   "cell_type": "code",
   "execution_count": 3,
   "metadata": {},
   "outputs": [],
   "source": [
    "games_path = 'data_files/Video_Games.json'\n",
    "games_meta_path = 'data_files/meta_Video_Games.json'"
   ]
  },
  {
   "cell_type": "markdown",
   "metadata": {},
   "source": [
    "### Metadata"
   ]
  },
  {
   "cell_type": "code",
   "execution_count": 6,
   "metadata": {},
   "outputs": [
    {
     "output_type": "stream",
     "name": "stdout",
     "text": "{'category': ['Video Games', 'PC', 'Games'], 'title': 'Reversi Sensory Challenger', 'image': ['https://images-na.ssl-images-amazon.com/images/I/31nTxlNh1OL._SS40_.jpg'], 'brand': 'Fidelity Electronics', 'rank': '>#2,623,937 in Toys & Games (See Top 100 in Toys & Games)>#39,015 in Video Games > PC Games', 'main_cat': 'Toys & Games', 'asin': '0042000742'}\n"
    }
   ],
   "source": [
    "data = list()\n",
    "with open(games_meta_path) as f:\n",
    "    for line in f:\n",
    "        data.append(json.loads(line.strip()))\n",
    "\n",
    "print(data[0])"
   ]
  },
  {
   "cell_type": "code",
   "execution_count": 7,
   "metadata": {},
   "outputs": [
    {
     "output_type": "execute_result",
     "data": {
      "text/plain": "                                            category  \\\n0                           [Video Games, PC, Games]   \n1                   [Video Games, Xbox 360, Games, ]   \n2  [Video Games, Retro Gaming & Microconsoles, Su...   \n3  [Video Games, Xbox 360, Accessories, Controlle...   \n4  [Video Games, PC, Games, , Grades 2-12, Spelli...   \n\n                                               title  \\\n0                         Reversi Sensory Challenger   \n1  Medal of Honor: Warfighter - Includes Battlefi...   \n2  street fighter 2 II turbo super nintendo snes ...   \n3                                 Xbox 360 MAS STICK   \n4                      Phonics Alive! 3: The Speller   \n\n                                               image  \\\n0  [https://images-na.ssl-images-amazon.com/image...   \n1  [https://images-na.ssl-images-amazon.com/image...   \n2                                                NaN   \n3  [https://images-na.ssl-images-amazon.com/image...   \n4  [https://images-na.ssl-images-amazon.com/image...   \n\n                                       brand  \\\n0                       Fidelity Electronics   \n1                     by\\n    \\n    EA Games   \n2                                   Nintendo   \n3                  by\\n    \\n    MAS SYSTEMS   \n4  by\\n    \\n    Advanced Software Pty. Ltd.   \n\n                                                rank      main_cat  \\\n0  >#2,623,937 in Toys & Games (See Top 100 in To...  Toys & Games   \n1  >#67,231 in Video Games (See Top 100 in Video ...   Video Games   \n2  >#134,433 in Video Games (See Top 100 in Video...   Video Games   \n3  >#105,263 in Video Games (See Top 100 in Video...   Video Games   \n4  >#92,397 in Video Games (See Top 100 in Video ...   Video Games   \n\n         asin                                        description  \\\n0  0042000742                                                NaN   \n1  0078764343                                [Brand new sealed!]   \n2  0276425316                                                NaN   \n3  0324411812  [MAS's Pro Xbox 360 Stick (Perfect 360 Stick) ...   \n4  0439335310  [Phonics Alive! 3, The Speller teaches student...   \n\n       also_buy                                          also_view  price  \\\n0           NaN                                                NaN    NaN   \n1  [B00PADROYW]  [B0050SY5BM, B072NQJCW5, B000TI836G, B002SRSQ7...    NaN   \n2           NaN                                                NaN  $0.72   \n3           NaN                                                NaN    NaN   \n4           NaN                                       [B000BCZ7U0]    NaN   \n\n                                             feature date tech1 details  \\\n0                                                NaN  NaN   NaN     NaN   \n1                                                NaN  NaN   NaN     NaN   \n2                                                NaN  NaN   NaN     NaN   \n3  [Original PCB used from Xbox 360 Control Pad (...  NaN   NaN     NaN   \n4  [Grades 2-12, Spelling Program, Teaches Spelli...  NaN   NaN     NaN   \n\n  similar_item tech2  \n0          NaN   NaN  \n1          NaN   NaN  \n2          NaN   NaN  \n3          NaN   NaN  \n4          NaN   NaN  ",
      "text/html": "<div>\n<style scoped>\n    .dataframe tbody tr th:only-of-type {\n        vertical-align: middle;\n    }\n\n    .dataframe tbody tr th {\n        vertical-align: top;\n    }\n\n    .dataframe thead th {\n        text-align: right;\n    }\n</style>\n<table border=\"1\" class=\"dataframe\">\n  <thead>\n    <tr style=\"text-align: right;\">\n      <th></th>\n      <th>category</th>\n      <th>title</th>\n      <th>image</th>\n      <th>brand</th>\n      <th>rank</th>\n      <th>main_cat</th>\n      <th>asin</th>\n      <th>description</th>\n      <th>also_buy</th>\n      <th>also_view</th>\n      <th>price</th>\n      <th>feature</th>\n      <th>date</th>\n      <th>tech1</th>\n      <th>details</th>\n      <th>similar_item</th>\n      <th>tech2</th>\n    </tr>\n  </thead>\n  <tbody>\n    <tr>\n      <th>0</th>\n      <td>[Video Games, PC, Games]</td>\n      <td>Reversi Sensory Challenger</td>\n      <td>[https://images-na.ssl-images-amazon.com/image...</td>\n      <td>Fidelity Electronics</td>\n      <td>&gt;#2,623,937 in Toys &amp; Games (See Top 100 in To...</td>\n      <td>Toys &amp; Games</td>\n      <td>0042000742</td>\n      <td>NaN</td>\n      <td>NaN</td>\n      <td>NaN</td>\n      <td>NaN</td>\n      <td>NaN</td>\n      <td>NaN</td>\n      <td>NaN</td>\n      <td>NaN</td>\n      <td>NaN</td>\n      <td>NaN</td>\n    </tr>\n    <tr>\n      <th>1</th>\n      <td>[Video Games, Xbox 360, Games, ]</td>\n      <td>Medal of Honor: Warfighter - Includes Battlefi...</td>\n      <td>[https://images-na.ssl-images-amazon.com/image...</td>\n      <td>by\\n    \\n    EA Games</td>\n      <td>&gt;#67,231 in Video Games (See Top 100 in Video ...</td>\n      <td>Video Games</td>\n      <td>0078764343</td>\n      <td>[Brand new sealed!]</td>\n      <td>[B00PADROYW]</td>\n      <td>[B0050SY5BM, B072NQJCW5, B000TI836G, B002SRSQ7...</td>\n      <td>NaN</td>\n      <td>NaN</td>\n      <td>NaN</td>\n      <td>NaN</td>\n      <td>NaN</td>\n      <td>NaN</td>\n      <td>NaN</td>\n    </tr>\n    <tr>\n      <th>2</th>\n      <td>[Video Games, Retro Gaming &amp; Microconsoles, Su...</td>\n      <td>street fighter 2 II turbo super nintendo snes ...</td>\n      <td>NaN</td>\n      <td>Nintendo</td>\n      <td>&gt;#134,433 in Video Games (See Top 100 in Video...</td>\n      <td>Video Games</td>\n      <td>0276425316</td>\n      <td>NaN</td>\n      <td>NaN</td>\n      <td>NaN</td>\n      <td>$0.72</td>\n      <td>NaN</td>\n      <td>NaN</td>\n      <td>NaN</td>\n      <td>NaN</td>\n      <td>NaN</td>\n      <td>NaN</td>\n    </tr>\n    <tr>\n      <th>3</th>\n      <td>[Video Games, Xbox 360, Accessories, Controlle...</td>\n      <td>Xbox 360 MAS STICK</td>\n      <td>[https://images-na.ssl-images-amazon.com/image...</td>\n      <td>by\\n    \\n    MAS SYSTEMS</td>\n      <td>&gt;#105,263 in Video Games (See Top 100 in Video...</td>\n      <td>Video Games</td>\n      <td>0324411812</td>\n      <td>[MAS's Pro Xbox 360 Stick (Perfect 360 Stick) ...</td>\n      <td>NaN</td>\n      <td>NaN</td>\n      <td>NaN</td>\n      <td>[Original PCB used from Xbox 360 Control Pad (...</td>\n      <td>NaN</td>\n      <td>NaN</td>\n      <td>NaN</td>\n      <td>NaN</td>\n      <td>NaN</td>\n    </tr>\n    <tr>\n      <th>4</th>\n      <td>[Video Games, PC, Games, , Grades 2-12, Spelli...</td>\n      <td>Phonics Alive! 3: The Speller</td>\n      <td>[https://images-na.ssl-images-amazon.com/image...</td>\n      <td>by\\n    \\n    Advanced Software Pty. Ltd.</td>\n      <td>&gt;#92,397 in Video Games (See Top 100 in Video ...</td>\n      <td>Video Games</td>\n      <td>0439335310</td>\n      <td>[Phonics Alive! 3, The Speller teaches student...</td>\n      <td>NaN</td>\n      <td>[B000BCZ7U0]</td>\n      <td>NaN</td>\n      <td>[Grades 2-12, Spelling Program, Teaches Spelli...</td>\n      <td>NaN</td>\n      <td>NaN</td>\n      <td>NaN</td>\n      <td>NaN</td>\n      <td>NaN</td>\n    </tr>\n  </tbody>\n</table>\n</div>"
     },
     "metadata": {},
     "execution_count": 7
    }
   ],
   "source": [
    "games_meta_df = pd.DataFrame(data)\n",
    "games_meta_df.head()"
   ]
  },
  {
   "cell_type": "code",
   "execution_count": 10,
   "metadata": {},
   "outputs": [
    {
     "output_type": "execute_result",
     "data": {
      "text/plain": "84893"
     },
     "metadata": {},
     "execution_count": 10
    }
   ],
   "source": [
    "len(games_meta_df)"
   ]
  },
  {
   "cell_type": "code",
   "execution_count": 8,
   "metadata": {},
   "outputs": [
    {
     "output_type": "execute_result",
     "data": {
      "text/plain": "Index(['category', 'title', 'image', 'brand', 'rank', 'main_cat', 'asin',\n       'description', 'also_buy', 'also_view', 'price', 'feature', 'date',\n       'tech1', 'details', 'similar_item', 'tech2'],\n      dtype='object')"
     },
     "metadata": {},
     "execution_count": 8
    }
   ],
   "source": [
    "games_meta_df.columns"
   ]
  },
  {
   "cell_type": "code",
   "execution_count": 9,
   "metadata": {},
   "outputs": [
    {
     "output_type": "execute_result",
     "data": {
      "text/plain": "category        object\ntitle           object\nimage           object\nbrand           object\nrank            object\nmain_cat        object\nasin            object\ndescription     object\nalso_buy        object\nalso_view       object\nprice           object\nfeature         object\ndate            object\ntech1           object\ndetails         object\nsimilar_item    object\ntech2           object\ndtype: object"
     },
     "metadata": {},
     "execution_count": 9
    }
   ],
   "source": [
    "games_meta_df.dtypes"
   ]
  },
  {
   "cell_type": "markdown",
   "metadata": {},
   "source": [
    "### Reviews data"
   ]
  },
  {
   "cell_type": "code",
   "execution_count": 11,
   "metadata": {},
   "outputs": [
    {
     "output_type": "stream",
     "name": "stdout",
     "text": "2565349\n{'overall': 1.0, 'verified': True, 'reviewTime': '06 9, 2014', 'reviewerID': 'A21ROB4YDOZA5P', 'asin': '0439381673', 'reviewerName': 'Mary M. Clark', 'reviewText': 'I used to play this game years ago and loved it. I found this did not work on my computer even though it said it would work with Windows 7.', 'summary': 'Did not like this', 'unixReviewTime': 1402272000}\n"
    }
   ],
   "source": [
    "data = list()\n",
    "\n",
    "with open(games_path) as f:\n",
    "    for line in f:\n",
    "        data.append(json.loads(line.strip()))\n",
    "\n",
    "print(len(data))\n",
    "print(data[0])"
   ]
  },
  {
   "cell_type": "code",
   "execution_count": 12,
   "metadata": {},
   "outputs": [
    {
     "output_type": "execute_result",
     "data": {
      "text/plain": "   overall  verified   reviewTime      reviewerID        asin  \\\n0      1.0      True   06 9, 2014  A21ROB4YDOZA5P  0439381673   \n1      3.0      True  05 10, 2014  A3TNZ2Q5E7HTHD  0439381673   \n2      4.0      True   02 7, 2014  A1OKRM3QFEATQO  0439381673   \n3      1.0      True   02 7, 2014  A2XO1JFCNEYV3T  0439381673   \n4      4.0      True  01 16, 2014  A19WLPIRHD15TH  0439381673   \n\n       reviewerName                                         reviewText  \\\n0     Mary M. Clark  I used to play this game years ago and loved i...   \n1         Sarabatya  The game itself worked great but the story lin...   \n2   Amazon Customer  I had to learn the hard way after ordering thi...   \n3  ColoradoPartyof5  The product description should state this clea...   \n4    Karen Robinson  I would recommend this learning game for anyon...   \n\n                                             summary  unixReviewTime vote  \\\n0                                  Did not like this      1402272000  NaN   \n1                                     Almost Perfect      1399680000  NaN   \n2  DOES NOT WORK WITH MAC OS unless it is 10.3 or...      1391731200   15   \n3                           does not work on Mac OSX      1391731200   11   \n4                                        Roughing it      1389830400  NaN   \n\n  style image  \n0   NaN   NaN  \n1   NaN   NaN  \n2   NaN   NaN  \n3   NaN   NaN  \n4   NaN   NaN  ",
      "text/html": "<div>\n<style scoped>\n    .dataframe tbody tr th:only-of-type {\n        vertical-align: middle;\n    }\n\n    .dataframe tbody tr th {\n        vertical-align: top;\n    }\n\n    .dataframe thead th {\n        text-align: right;\n    }\n</style>\n<table border=\"1\" class=\"dataframe\">\n  <thead>\n    <tr style=\"text-align: right;\">\n      <th></th>\n      <th>overall</th>\n      <th>verified</th>\n      <th>reviewTime</th>\n      <th>reviewerID</th>\n      <th>asin</th>\n      <th>reviewerName</th>\n      <th>reviewText</th>\n      <th>summary</th>\n      <th>unixReviewTime</th>\n      <th>vote</th>\n      <th>style</th>\n      <th>image</th>\n    </tr>\n  </thead>\n  <tbody>\n    <tr>\n      <th>0</th>\n      <td>1.0</td>\n      <td>True</td>\n      <td>06 9, 2014</td>\n      <td>A21ROB4YDOZA5P</td>\n      <td>0439381673</td>\n      <td>Mary M. Clark</td>\n      <td>I used to play this game years ago and loved i...</td>\n      <td>Did not like this</td>\n      <td>1402272000</td>\n      <td>NaN</td>\n      <td>NaN</td>\n      <td>NaN</td>\n    </tr>\n    <tr>\n      <th>1</th>\n      <td>3.0</td>\n      <td>True</td>\n      <td>05 10, 2014</td>\n      <td>A3TNZ2Q5E7HTHD</td>\n      <td>0439381673</td>\n      <td>Sarabatya</td>\n      <td>The game itself worked great but the story lin...</td>\n      <td>Almost Perfect</td>\n      <td>1399680000</td>\n      <td>NaN</td>\n      <td>NaN</td>\n      <td>NaN</td>\n    </tr>\n    <tr>\n      <th>2</th>\n      <td>4.0</td>\n      <td>True</td>\n      <td>02 7, 2014</td>\n      <td>A1OKRM3QFEATQO</td>\n      <td>0439381673</td>\n      <td>Amazon Customer</td>\n      <td>I had to learn the hard way after ordering thi...</td>\n      <td>DOES NOT WORK WITH MAC OS unless it is 10.3 or...</td>\n      <td>1391731200</td>\n      <td>15</td>\n      <td>NaN</td>\n      <td>NaN</td>\n    </tr>\n    <tr>\n      <th>3</th>\n      <td>1.0</td>\n      <td>True</td>\n      <td>02 7, 2014</td>\n      <td>A2XO1JFCNEYV3T</td>\n      <td>0439381673</td>\n      <td>ColoradoPartyof5</td>\n      <td>The product description should state this clea...</td>\n      <td>does not work on Mac OSX</td>\n      <td>1391731200</td>\n      <td>11</td>\n      <td>NaN</td>\n      <td>NaN</td>\n    </tr>\n    <tr>\n      <th>4</th>\n      <td>4.0</td>\n      <td>True</td>\n      <td>01 16, 2014</td>\n      <td>A19WLPIRHD15TH</td>\n      <td>0439381673</td>\n      <td>Karen Robinson</td>\n      <td>I would recommend this learning game for anyon...</td>\n      <td>Roughing it</td>\n      <td>1389830400</td>\n      <td>NaN</td>\n      <td>NaN</td>\n      <td>NaN</td>\n    </tr>\n  </tbody>\n</table>\n</div>"
     },
     "metadata": {},
     "execution_count": 12
    }
   ],
   "source": [
    "games_df = pd.DataFrame(data)\n",
    "games_df.head()"
   ]
  },
  {
   "cell_type": "code",
   "execution_count": 13,
   "metadata": {},
   "outputs": [
    {
     "output_type": "execute_result",
     "data": {
      "text/plain": "2565349"
     },
     "metadata": {},
     "execution_count": 13
    }
   ],
   "source": [
    "len(games_df)"
   ]
  },
  {
   "cell_type": "code",
   "execution_count": 14,
   "metadata": {},
   "outputs": [
    {
     "output_type": "execute_result",
     "data": {
      "text/plain": "Index(['overall', 'verified', 'reviewTime', 'reviewerID', 'asin',\n       'reviewerName', 'reviewText', 'summary', 'unixReviewTime', 'vote',\n       'style', 'image'],\n      dtype='object')"
     },
     "metadata": {},
     "execution_count": 14
    }
   ],
   "source": [
    "games_df.columns"
   ]
  },
  {
   "cell_type": "code",
   "execution_count": 15,
   "metadata": {},
   "outputs": [
    {
     "output_type": "execute_result",
     "data": {
      "text/plain": "overall           float64\nverified             bool\nreviewTime         object\nreviewerID         object\nasin               object\nreviewerName       object\nreviewText         object\nsummary            object\nunixReviewTime      int64\nvote               object\nstyle              object\nimage              object\ndtype: object"
     },
     "metadata": {},
     "execution_count": 15
    }
   ],
   "source": [
    "games_df.dtypes"
   ]
  }
 ],
 "metadata": {
  "language_info": {
   "codemirror_mode": {
    "name": "ipython",
    "version": 3
   },
   "file_extension": ".py",
   "mimetype": "text/x-python",
   "name": "python",
   "nbconvert_exporter": "python",
   "pygments_lexer": "ipython3",
   "version": "3.8.2-final"
  },
  "orig_nbformat": 2,
  "kernelspec": {
   "name": "python38264bit0c31753cb4904f759510df829f98c315",
   "display_name": "Python 3.8.2 64-bit"
  }
 },
 "nbformat": 4,
 "nbformat_minor": 2
}